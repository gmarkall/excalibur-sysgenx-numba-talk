{
 "cells": [
  {
   "cell_type": "markdown",
   "id": "7be94abe-0a77-4dba-973b-f271a0efea1b",
   "metadata": {},
   "source": [
    "# How to approach NumPy functions\n",
    "\n",
    "This notebook uses an example to demonstrate some ideas to keep in mind when approaching NumPy functions\n",
    "\n",
    "## Imports / setup"
   ]
  },
  {
   "cell_type": "code",
   "execution_count": 47,
   "id": "6da462f2-d703-46d7-9167-29acfe31034e",
   "metadata": {},
   "outputs": [],
   "source": [
    "from numba import njit\n",
    "import numpy as np\n",
    "\n",
    "# For consistent results\n",
    "np.random.seed(1)\n",
    "\n",
    "# Set up data\n",
    "N = 100000\n",
    "data = np.random.random(N)"
   ]
  },
  {
   "cell_type": "markdown",
   "id": "2a592312-d683-4306-b6a7-4307dd56d1f0",
   "metadata": {},
   "source": [
    "## A function\n",
    "\n",
    "Suppose we have the following function that uses NumPy array operations to compute a slightly complex function:"
   ]
  },
  {
   "cell_type": "code",
   "execution_count": 48,
   "id": "6a689592-b37e-4171-8ec7-b7c676dd3468",
   "metadata": {},
   "outputs": [],
   "source": [
    "def function(data):\n",
    "    squared = data**2\n",
    "    result = np.where(squared > 0.5, squared - np.log(1 + data), squared + np.exp(data))\n",
    "    result = np.where(result > 1, result / 2, result)\n",
    "    return result"
   ]
  },
  {
   "cell_type": "markdown",
   "id": "52da2c6a-a5ed-48d6-9090-c4acab0aeb06",
   "metadata": {},
   "source": [
    "How long does this take to execute on our data in Python?"
   ]
  },
  {
   "cell_type": "code",
   "execution_count": 49,
   "id": "874fe3c4-c92c-45f5-856f-860fa68ba38d",
   "metadata": {},
   "outputs": [
    {
     "name": "stdout",
     "output_type": "stream",
     "text": [
      "1.92 ms ± 61.7 µs per loop (mean ± std. dev. of 7 runs, 100 loops each)\n"
     ]
    }
   ],
   "source": [
    "%%timeit\n",
    "function(data)"
   ]
  },
  {
   "cell_type": "markdown",
   "id": "f54dccd4-2769-4c85-ac73-c419f401fd2d",
   "metadata": {},
   "source": [
    "What if we JIT-compile it with Numba?"
   ]
  },
  {
   "cell_type": "code",
   "execution_count": 50,
   "id": "2d8296ff-faad-4c7e-9223-6648a75b4302",
   "metadata": {},
   "outputs": [
    {
     "data": {
      "text/plain": [
       "array([ 0.84567163, -0.02364556,  0.5000572 , ...,  0.07143678,\n",
       "        1.04346666,  1.1109532 ])"
      ]
     },
     "execution_count": 50,
     "metadata": {},
     "output_type": "execute_result"
    }
   ],
   "source": [
    "# Compile with Numba\n",
    "jitted = njit(function)\n",
    "# Execute once to force compilation\n",
    "jitted(data)"
   ]
  },
  {
   "cell_type": "code",
   "execution_count": 51,
   "id": "1f76085a-2fcb-4d61-800f-6f1944cf1edf",
   "metadata": {},
   "outputs": [
    {
     "name": "stdout",
     "output_type": "stream",
     "text": [
      "2.19 ms ± 72.4 µs per loop (mean ± std. dev. of 7 runs, 100 loops each)\n"
     ]
    }
   ],
   "source": [
    "%%timeit\n",
    "jitted(data)"
   ]
  },
  {
   "cell_type": "markdown",
   "id": "0a4a3ff4-f818-40a9-a7b0-bd3bc4d8045f",
   "metadata": {},
   "source": [
    "What happened?\n",
    "\n",
    "* There is a little overhead for calling a Numba function (boxing + unboxing)\n",
    "* The NumPy functions are implemented in C, so there's little interpreter overhead\n",
    "\n",
    "## Rewriting with loops\n",
    "\n",
    "How about if we implement the function using loops and scalar operations?"
   ]
  },
  {
   "cell_type": "code",
   "execution_count": 52,
   "id": "5e33be5a-8eac-49ac-8b03-34d051bf6374",
   "metadata": {},
   "outputs": [],
   "source": [
    "def function_loop(data):\n",
    "    result = np.empty_like(data)\n",
    "    for i in range(len(data)):\n",
    "        x = data[i]\n",
    "        x_squared = x**2\n",
    "        if x_squared > 0.5:\n",
    "            r = x_squared - np.log(1 + x)\n",
    "        else:\n",
    "            r = x_squared + np.exp(x)\n",
    "        if r > 1:\n",
    "            r /= 2\n",
    "        result[i] = r\n",
    "    return result"
   ]
  },
  {
   "cell_type": "markdown",
   "id": "c37bf0cd-c510-4c76-91a7-89c93890ef2d",
   "metadata": {},
   "source": [
    "Let's quickly check that our re-implementation does the right thing:"
   ]
  },
  {
   "cell_type": "code",
   "execution_count": 53,
   "id": "d11fc2c2-4398-466c-8184-5857f1a60865",
   "metadata": {},
   "outputs": [],
   "source": [
    "np.testing.assert_allclose(function(data), function_loop(data))"
   ]
  },
  {
   "cell_type": "markdown",
   "id": "10a022ae-cf5f-467c-9345-206c77038f8c",
   "metadata": {},
   "source": [
    "Side note: Why use `allclose`?\n",
    "* NumPy vectorized functions might use a different underlying library (e.g. SVML, MKL, etc.) resulting in slight ULP differences\n",
    "\n",
    "How does it perform in pure Python?"
   ]
  },
  {
   "cell_type": "code",
   "execution_count": 54,
   "id": "ba2be9ba-e9ca-478c-b8be-376a94f94f3b",
   "metadata": {},
   "outputs": [
    {
     "name": "stdout",
     "output_type": "stream",
     "text": [
      "95.5 ms ± 1.31 ms per loop (mean ± std. dev. of 7 runs, 10 loops each)\n"
     ]
    }
   ],
   "source": [
    "%%timeit\n",
    "function_loop(data)"
   ]
  },
  {
   "cell_type": "markdown",
   "id": "9e933364-1a3d-4059-8cfb-e6f8870ef832",
   "metadata": {},
   "source": [
    "Quite a bit slower - approximately 50 times!\n",
    "\n",
    "How about if we JIT-compile with Numba?"
   ]
  },
  {
   "cell_type": "code",
   "execution_count": 55,
   "id": "d09b8739-6e82-4210-90f3-ae3ae8133ed6",
   "metadata": {},
   "outputs": [
    {
     "data": {
      "text/plain": [
       "array([ 0.84567163, -0.02364556,  0.5000572 , ...,  0.07143678,\n",
       "        1.04346666,  1.1109532 ])"
      ]
     },
     "execution_count": 55,
     "metadata": {},
     "output_type": "execute_result"
    }
   ],
   "source": [
    "# Compile with Numba\n",
    "jitted_loop = njit(function_loop)\n",
    "# Execute once to force compilation\n",
    "jitted_loop(data)"
   ]
  },
  {
   "cell_type": "markdown",
   "id": "4b350b14-6583-411b-99b4-3c8e62c26ed4",
   "metadata": {},
   "source": [
    "Timing the function jitted with loops:"
   ]
  },
  {
   "cell_type": "code",
   "execution_count": 56,
   "id": "e27a6894-df2c-4bc2-8c28-05ee18b8df6f",
   "metadata": {},
   "outputs": [
    {
     "name": "stdout",
     "output_type": "stream",
     "text": [
      "716 µs ± 11.5 µs per loop (mean ± std. dev. of 7 runs, 1,000 loops each)\n"
     ]
    }
   ],
   "source": [
    "%%timeit\n",
    "jitted_loop(data)"
   ]
  },
  {
   "cell_type": "markdown",
   "id": "6adea956-5ed2-4fa0-8894-ecc5f5ec0062",
   "metadata": {},
   "source": [
    "Now we have got a speedup - approximately 2.5 times over our original un-jitted function.\n",
    "\n",
    "## Take-aways\n",
    "\n",
    "* If you have a vectorized function already, it's simplest to just JIT-compile it\n",
    "* However, this approach can limit the amount of speedup that Numba provides\n",
    "  * There is not much interpreter overhead with vectorized functions\n",
    "* However, rewriting with loops can make an improvement:\n",
    "  * Reducing the redundant computation and array allocations reduces execution time\n",
    "  * The more complex the function, the greater the potential speedup (in general)\n",
    "  * Arguably the loop variant can be easier to read and understand than complex vectorized expressions (IMHO)\n",
    "* If you're planning on having Numba as an optional dependency for speedup:\n",
    "  * Be mindful that rewriting with loops can slow down the pure Python version a lot\n",
    " \n",
    "Other consideration:\n",
    "\n",
    "* Numba supports only a limited subset of NumPy array functions\n",
    "  * Sometimes it can be necessary to rewrite a function using loops or composing other functions just to get it to compile"
   ]
  },
  {
   "cell_type": "code",
   "execution_count": null,
   "id": "5fd4d304-7c8f-4c1d-a571-61a8f02b9fba",
   "metadata": {},
   "outputs": [],
   "source": []
  }
 ],
 "metadata": {
  "kernelspec": {
   "display_name": "Python 3 (ipykernel)",
   "language": "python",
   "name": "python3"
  },
  "language_info": {
   "codemirror_mode": {
    "name": "ipython",
    "version": 3
   },
   "file_extension": ".py",
   "mimetype": "text/x-python",
   "name": "python",
   "nbconvert_exporter": "python",
   "pygments_lexer": "ipython3",
   "version": "3.11.7"
  }
 },
 "nbformat": 4,
 "nbformat_minor": 5
}
